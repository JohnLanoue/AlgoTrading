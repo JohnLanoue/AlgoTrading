{
 "cells": [
  {
   "cell_type": "markdown",
   "id": "41d8945c",
   "metadata": {},
   "source": [
    "## Intent 9/6/2025: To create a LSTM vectorized Backtest function that can run with a data frame of predictions.\n"
   ]
  },
  {
   "cell_type": "code",
   "execution_count": 5,
   "id": "e1fcb451",
   "metadata": {},
   "outputs": [],
   "source": [
    "#Basic \n",
    "import numpy as np\n",
    "#LSTM Functions\n",
    "from keras.models import Sequential \n",
    "from keras.layers import Dense \n",
    "from keras.layers import LSTM \n",
    "from keras.layers import Embedding\n",
    "from keras.preprocessing import sequence\n",
    "from keras.layers import Dropout\n",
    "from Packages.Alpaca_Connection import get_data_today\n"
   ]
  },
  {
   "cell_type": "markdown",
   "id": "c650c3e8",
   "metadata": {},
   "source": [
    "## Seperate: The LSTM Predictions"
   ]
  },
  {
   "cell_type": "code",
   "execution_count": 6,
   "id": "a55c084c",
   "metadata": {},
   "outputs": [],
   "source": [
    "symbol = 'mmm'\n",
    "bars = get_data_today(symbol)\n",
    "df= get_data_today(symbol)\n",
    "df = df.reset_index()"
   ]
  },
  {
   "cell_type": "code",
   "execution_count": null,
   "id": "9691da7e",
   "metadata": {},
   "outputs": [],
   "source": []
  }
 ],
 "metadata": {
  "kernelspec": {
   "display_name": "Python 3 (ipykernel)",
   "language": "python",
   "name": "python3"
  },
  "language_info": {
   "codemirror_mode": {
    "name": "ipython",
    "version": 3
   },
   "file_extension": ".py",
   "mimetype": "text/x-python",
   "name": "python",
   "nbconvert_exporter": "python",
   "pygments_lexer": "ipython3",
   "version": "3.9.18"
  }
 },
 "nbformat": 4,
 "nbformat_minor": 5
}
