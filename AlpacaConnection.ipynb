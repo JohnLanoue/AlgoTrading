{
 "cells": [
  {
   "cell_type": "code",
   "execution_count": 1,
   "id": "6e2cbf59",
   "metadata": {},
   "outputs": [
    {
     "name": "stderr",
     "output_type": "stream",
     "text": [
      "/opt/anaconda3/lib/python3.9/site-packages/pandas/core/arrays/masked.py:60: UserWarning: Pandas requires version '1.3.6' or newer of 'bottleneck' (version '1.3.5' currently installed).\n",
      "  from pandas.core import (\n"
     ]
    }
   ],
   "source": [
    "\n",
    "\n",
    "\n",
    "\n",
    "class aplacaAccount: \n",
    "    def __init__:\n",
    "        #Snag all of the packages\n",
    "        import os\n",
    "        from dotenv import load_dotenv\n",
    "        from alpaca.data.historical import StockHistoricalDataClient\n",
    "        from alpaca.data.historical import StockHistoricalDataClient\n",
    "        from alpaca.data.requests import StockBarsRequest\n",
    "        from alpaca.data.timeframe import TimeFrame\n",
    "        import pandas as pd\n",
    "        from datetime import datetime\n",
    "        from datetime import date\n",
    "        from dateutil.relativedelta import relativedelta\n",
    "        \n",
    "        # Load .env into environment variables\n",
    "        load_dotenv()\n",
    "        API_KEY = os.getenv(\"ALPACA_API_KEY\")\n",
    "        API_SECRET = os.getenv(\"ALPACA_SECRET_KEY\")\n",
    "        client = StockHistoricalDataClient(API_KEY, API_SECRET)\n",
    "\n",
    "        def request_bars(symbol = 'mmm'):\n",
    "            return StockBarsRequest(\n",
    "            symbol_or_symbols)\n",
    "        # Define request\n",
    "symbol = 'mmm'\n",
    "request = StockBarsRequest(\n",
    "    symbol_or_symbols=[symbol],\n",
    "    timeframe=TimeFrame.Day,\n",
    "    start=datetime.combine(date.today()- relativedelta(years=1), datetime.min.time()),\n",
    "    end=datetime.combine(date.today(), datetime.min.time())\n",
    ")\n",
    "\n",
    "# Fetch data\n",
    "bars = client.get_stock_bars(request)\n",
    "df = bars.df  # Convert to pandas DataFrame\n",
    "df = df.reset_index()"
   ]
  },
  {
   "cell_type": "code",
   "execution_count": null,
   "id": "8259e8bc",
   "metadata": {},
   "outputs": [],
   "source": [
    "import os\n",
    "from dotenv import load_dotenv\n",
    "        from alpaca.data.historical import StockHistoricalDataClient\n",
    "from alpaca.data.historical import StockHistoricalDataClient\n",
    "        from alpaca.data.requests import StockBarsRequest\n",
    "        from alpaca.data.timeframe import TimeFrame\n",
    "        import pandas as pd\n",
    "        from datetime import datetime\n",
    "        from datetime import date\n",
    "        from dateutil.relativedelta import relativedelta\n",
    "        \n",
    "        # Load .env into environment variables\n",
    "        load_dotenv()\n",
    "        API_KEY = os.getenv(\"ALPACA_API_KEY\")\n",
    "        API_SECRET = os.getenv(\"ALPACA_SECRET_KEY\")\n",
    "        client = StockHistoricalDataClient(API_KEY, API_SECRET)"
   ]
  },
  {
   "cell_type": "code",
   "execution_count": 17,
   "id": "a5e56728",
   "metadata": {},
   "outputs": [
    {
     "ename": "IndentationError",
     "evalue": "expected an indented block (3671212418.py, line 3)",
     "output_type": "error",
     "traceback": [
      "\u001b[0;36m  File \u001b[0;32m\"/var/folders/3r/pc8xl1ls1y35f9xzjdj87z0c0000gn/T/ipykernel_44643/3671212418.py\"\u001b[0;36m, line \u001b[0;32m3\u001b[0m\n\u001b[0;31m    \"\"\"    def f(\u001b[0m\n\u001b[0m    ^\u001b[0m\n\u001b[0;31mIndentationError\u001b[0m\u001b[0;31m:\u001b[0m expected an indented block\n"
     ]
    }
   ],
   "source": [
    "from alpaca.data.requests import StockBarsRequest\n",
    "class tst(StockBarsRequest): \n",
    "\"\"\"    def f(\n",
    "    symbol_or_symbols=[symbol],\n",
    "    timeframe=TimeFrame.Day,\n",
    "    start=datetime.combine(date.today()- relativedelta(years=1), datetime.min.time()),\n",
    "    end=datetime.combine(date.today(), datetime.min.time())\n",
    "):\n",
    "\"\"\"\n",
    "    pass"
   ]
  },
  {
   "cell_type": "code",
   "execution_count": 31,
   "id": "2554781d",
   "metadata": {},
   "outputs": [],
   "source": [
    "from alpaca.data.requests import StockBarsRequest\n",
    "class tst(StockBarsRequest): \n",
    "    def __init__(self):\n",
    "        self.pkg_instance = StockBarsRequest()\n",
    "    def g(self):\n",
    "        return self.pkg_instance.g()\n",
    "    pass"
   ]
  },
  {
   "cell_type": "code",
   "execution_count": 32,
   "id": "357755a3",
   "metadata": {},
   "outputs": [
    {
     "ename": "TypeError",
     "evalue": "g() got an unexpected keyword argument 'symbol_or_symbols'",
     "output_type": "error",
     "traceback": [
      "\u001b[0;31m---------------------------------------------------------------------------\u001b[0m",
      "\u001b[0;31mTypeError\u001b[0m                                 Traceback (most recent call last)",
      "\u001b[0;32m/var/folders/3r/pc8xl1ls1y35f9xzjdj87z0c0000gn/T/ipykernel_44643/308587012.py\u001b[0m in \u001b[0;36m<module>\u001b[0;34m\u001b[0m\n\u001b[1;32m      1\u001b[0m \u001b[0ma\u001b[0m \u001b[0;34m=\u001b[0m \u001b[0mtst\u001b[0m\u001b[0;34m\u001b[0m\u001b[0;34m\u001b[0m\u001b[0m\n\u001b[0;32m----> 2\u001b[0;31m df = a.g(\n\u001b[0m\u001b[1;32m      3\u001b[0m     \u001b[0msymbol_or_symbols\u001b[0m\u001b[0;34m=\u001b[0m\u001b[0;34m[\u001b[0m\u001b[0msymbol\u001b[0m\u001b[0;34m]\u001b[0m\u001b[0;34m,\u001b[0m\u001b[0;34m\u001b[0m\u001b[0;34m\u001b[0m\u001b[0m\n\u001b[1;32m      4\u001b[0m     \u001b[0mtimeframe\u001b[0m\u001b[0;34m=\u001b[0m\u001b[0mTimeFrame\u001b[0m\u001b[0;34m.\u001b[0m\u001b[0mDay\u001b[0m\u001b[0;34m,\u001b[0m\u001b[0;34m\u001b[0m\u001b[0;34m\u001b[0m\u001b[0m\n\u001b[1;32m      5\u001b[0m     \u001b[0mstart\u001b[0m\u001b[0;34m=\u001b[0m\u001b[0mdatetime\u001b[0m\u001b[0;34m.\u001b[0m\u001b[0mcombine\u001b[0m\u001b[0;34m(\u001b[0m\u001b[0mdate\u001b[0m\u001b[0;34m.\u001b[0m\u001b[0mtoday\u001b[0m\u001b[0;34m(\u001b[0m\u001b[0;34m)\u001b[0m\u001b[0;34m-\u001b[0m \u001b[0mrelativedelta\u001b[0m\u001b[0;34m(\u001b[0m\u001b[0myears\u001b[0m\u001b[0;34m=\u001b[0m\u001b[0;36m1\u001b[0m\u001b[0;34m)\u001b[0m\u001b[0;34m,\u001b[0m \u001b[0mdatetime\u001b[0m\u001b[0;34m.\u001b[0m\u001b[0mmin\u001b[0m\u001b[0;34m.\u001b[0m\u001b[0mtime\u001b[0m\u001b[0;34m(\u001b[0m\u001b[0;34m)\u001b[0m\u001b[0;34m)\u001b[0m\u001b[0;34m,\u001b[0m\u001b[0;34m\u001b[0m\u001b[0;34m\u001b[0m\u001b[0m\n",
      "\u001b[0;31mTypeError\u001b[0m: g() got an unexpected keyword argument 'symbol_or_symbols'"
     ]
    }
   ],
   "source": [
    "a = tst\n",
    "df = a.g(\n",
    "    symbol_or_symbols=[symbol],\n",
    "    timeframe=TimeFrame.Day,\n",
    "    start=datetime.combine(date.today()- relativedelta(years=1), datetime.min.time()),\n",
    "    end=datetime.combine(date.today(), datetime.min.time())\n",
    ")"
   ]
  },
  {
   "cell_type": "code",
   "execution_count": 33,
   "id": "6308bab4",
   "metadata": {},
   "outputs": [
    {
     "data": {
      "text/plain": [
       "['Config',\n",
       " '__abstractmethods__',\n",
       " '__annotations__',\n",
       " '__class__',\n",
       " '__class_vars__',\n",
       " '__config__',\n",
       " '__custom_root_type__',\n",
       " '__delattr__',\n",
       " '__dict__',\n",
       " '__dir__',\n",
       " '__doc__',\n",
       " '__eq__',\n",
       " '__exclude_fields__',\n",
       " '__fields__',\n",
       " '__fields_set__',\n",
       " '__format__',\n",
       " '__ge__',\n",
       " '__get_validators__',\n",
       " '__getattribute__',\n",
       " '__getstate__',\n",
       " '__gt__',\n",
       " '__hash__',\n",
       " '__include_fields__',\n",
       " '__init__',\n",
       " '__init_subclass__',\n",
       " '__iter__',\n",
       " '__json_encoder__',\n",
       " '__le__',\n",
       " '__lt__',\n",
       " '__module__',\n",
       " '__ne__',\n",
       " '__new__',\n",
       " '__post_root_validators__',\n",
       " '__pre_root_validators__',\n",
       " '__pretty__',\n",
       " '__private_attributes__',\n",
       " '__reduce__',\n",
       " '__reduce_ex__',\n",
       " '__repr__',\n",
       " '__repr_args__',\n",
       " '__repr_name__',\n",
       " '__repr_str__',\n",
       " '__rich_repr__',\n",
       " '__schema_cache__',\n",
       " '__setattr__',\n",
       " '__setstate__',\n",
       " '__signature__',\n",
       " '__sizeof__',\n",
       " '__slots__',\n",
       " '__str__',\n",
       " '__subclasshook__',\n",
       " '__try_update_forward_refs__',\n",
       " '__validators__',\n",
       " '_abc_impl',\n",
       " '_calculate_keys',\n",
       " '_copy_and_set_values',\n",
       " '_decompose_class',\n",
       " '_enforce_dict_if_root',\n",
       " '_get_value',\n",
       " '_init_private_attributes',\n",
       " '_iter',\n",
       " 'construct',\n",
       " 'copy',\n",
       " 'dict',\n",
       " 'from_orm',\n",
       " 'g',\n",
       " 'json',\n",
       " 'parse_file',\n",
       " 'parse_obj',\n",
       " 'parse_raw',\n",
       " 'schema',\n",
       " 'schema_json',\n",
       " 'to_request_fields',\n",
       " 'update_forward_refs',\n",
       " 'validate']"
      ]
     },
     "execution_count": 33,
     "metadata": {},
     "output_type": "execute_result"
    }
   ],
   "source": [
    "dir(tst)"
   ]
  }
 ],
 "metadata": {
  "kernelspec": {
   "display_name": "Python 3 (ipykernel)",
   "language": "python",
   "name": "python3"
  },
  "language_info": {
   "codemirror_mode": {
    "name": "ipython",
    "version": 3
   },
   "file_extension": ".py",
   "mimetype": "text/x-python",
   "name": "python",
   "nbconvert_exporter": "python",
   "pygments_lexer": "ipython3",
   "version": "3.9.18"
  }
 },
 "nbformat": 4,
 "nbformat_minor": 5
}
