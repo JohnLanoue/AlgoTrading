{
 "cells": [
  {
   "cell_type": "code",
   "execution_count": 2,
   "id": "5b9b86be",
   "metadata": {},
   "outputs": [
    {
     "ename": "ValueError",
     "evalue": "You must supply a method of authentication",
     "output_type": "error",
     "traceback": [
      "\u001b[0;31m---------------------------------------------------------------------------\u001b[0m",
      "\u001b[0;31mValueError\u001b[0m                                Traceback (most recent call last)",
      "\u001b[0;32m/var/folders/3r/pc8xl1ls1y35f9xzjdj87z0c0000gn/T/ipykernel_97668/4040336731.py\u001b[0m in \u001b[0;36m<module>\u001b[0;34m\u001b[0m\n\u001b[1;32m     19\u001b[0m \u001b[0mAPI_SECRET\u001b[0m \u001b[0;34m=\u001b[0m \u001b[0mos\u001b[0m\u001b[0;34m.\u001b[0m\u001b[0mgetenv\u001b[0m\u001b[0;34m(\u001b[0m\u001b[0;34m\"ALPACA_SECRET_KEY\"\u001b[0m\u001b[0;34m)\u001b[0m\u001b[0;34m\u001b[0m\u001b[0;34m\u001b[0m\u001b[0m\n\u001b[1;32m     20\u001b[0m \u001b[0;34m\u001b[0m\u001b[0m\n\u001b[0;32m---> 21\u001b[0;31m \u001b[0mclient\u001b[0m \u001b[0;34m=\u001b[0m \u001b[0mStockHistoricalDataClient\u001b[0m\u001b[0;34m(\u001b[0m\u001b[0mAPI_KEY\u001b[0m\u001b[0;34m,\u001b[0m \u001b[0mAPI_SECRET\u001b[0m\u001b[0;34m)\u001b[0m\u001b[0;34m\u001b[0m\u001b[0;34m\u001b[0m\u001b[0m\n\u001b[0m\u001b[1;32m     22\u001b[0m \u001b[0;31m# Define request\u001b[0m\u001b[0;34m\u001b[0m\u001b[0;34m\u001b[0m\u001b[0m\n\u001b[1;32m     23\u001b[0m \u001b[0msymbol\u001b[0m \u001b[0;34m=\u001b[0m \u001b[0;34m'mmm'\u001b[0m\u001b[0;34m\u001b[0m\u001b[0;34m\u001b[0m\u001b[0m\n",
      "\u001b[0;32m/opt/anaconda3/lib/python3.9/site-packages/alpaca/data/historical/stock.py\u001b[0m in \u001b[0;36m__init__\u001b[0;34m(self, api_key, secret_key, oauth_token, raw_data, url_override)\u001b[0m\n\u001b[1;32m     61\u001b[0m               \u001b[0mto\u001b[0m \u001b[0;32mfor\u001b[0m \u001b[0mproxy\u001b[0m\u001b[0;34m/\u001b[0m\u001b[0mtesting\u001b[0m\u001b[0;34m.\u001b[0m\u001b[0;34m\u001b[0m\u001b[0;34m\u001b[0m\u001b[0m\n\u001b[1;32m     62\u001b[0m         \"\"\"\n\u001b[0;32m---> 63\u001b[0;31m         super().__init__(\n\u001b[0m\u001b[1;32m     64\u001b[0m             \u001b[0mapi_key\u001b[0m\u001b[0;34m=\u001b[0m\u001b[0mapi_key\u001b[0m\u001b[0;34m,\u001b[0m\u001b[0;34m\u001b[0m\u001b[0;34m\u001b[0m\u001b[0m\n\u001b[1;32m     65\u001b[0m             \u001b[0msecret_key\u001b[0m\u001b[0;34m=\u001b[0m\u001b[0msecret_key\u001b[0m\u001b[0;34m,\u001b[0m\u001b[0;34m\u001b[0m\u001b[0;34m\u001b[0m\u001b[0m\n",
      "\u001b[0;32m/opt/anaconda3/lib/python3.9/site-packages/alpaca/common/rest.py\u001b[0m in \u001b[0;36m__init__\u001b[0;34m(self, base_url, api_key, secret_key, oauth_token, api_version, sandbox, raw_data, retry_attempts, retry_wait_seconds, retry_exception_codes)\u001b[0m\n\u001b[1;32m     54\u001b[0m         \"\"\"\n\u001b[1;32m     55\u001b[0m \u001b[0;34m\u001b[0m\u001b[0m\n\u001b[0;32m---> 56\u001b[0;31m         self._api_key, self._secret_key, self._oauth_token = self._validate_credentials(\n\u001b[0m\u001b[1;32m     57\u001b[0m             \u001b[0mapi_key\u001b[0m\u001b[0;34m,\u001b[0m \u001b[0msecret_key\u001b[0m\u001b[0;34m,\u001b[0m \u001b[0moauth_token\u001b[0m\u001b[0;34m\u001b[0m\u001b[0;34m\u001b[0m\u001b[0m\n\u001b[1;32m     58\u001b[0m         )\n",
      "\u001b[0;32m/opt/anaconda3/lib/python3.9/site-packages/alpaca/common/rest.py\u001b[0m in \u001b[0;36m_validate_credentials\u001b[0;34m(api_key, secret_key, oauth_token)\u001b[0m\n\u001b[1;32m    337\u001b[0m \u001b[0;34m\u001b[0m\u001b[0m\n\u001b[1;32m    338\u001b[0m         \u001b[0;32mif\u001b[0m \u001b[0;32mnot\u001b[0m \u001b[0moauth_token\u001b[0m \u001b[0;32mand\u001b[0m \u001b[0;32mnot\u001b[0m \u001b[0mapi_key\u001b[0m\u001b[0;34m:\u001b[0m\u001b[0;34m\u001b[0m\u001b[0;34m\u001b[0m\u001b[0m\n\u001b[0;32m--> 339\u001b[0;31m             \u001b[0;32mraise\u001b[0m \u001b[0mValueError\u001b[0m\u001b[0;34m(\u001b[0m\u001b[0;34m\"You must supply a method of authentication\"\u001b[0m\u001b[0;34m)\u001b[0m\u001b[0;34m\u001b[0m\u001b[0;34m\u001b[0m\u001b[0m\n\u001b[0m\u001b[1;32m    340\u001b[0m \u001b[0;34m\u001b[0m\u001b[0m\n\u001b[1;32m    341\u001b[0m         \u001b[0;32mif\u001b[0m \u001b[0moauth_token\u001b[0m \u001b[0;32mand\u001b[0m \u001b[0;34m(\u001b[0m\u001b[0mapi_key\u001b[0m \u001b[0;32mor\u001b[0m \u001b[0msecret_key\u001b[0m\u001b[0;34m)\u001b[0m\u001b[0;34m:\u001b[0m\u001b[0;34m\u001b[0m\u001b[0;34m\u001b[0m\u001b[0m\n",
      "\u001b[0;31mValueError\u001b[0m: You must supply a method of authentication"
     ]
    }
   ],
   "source": [
    "import os\n",
    "from dotenv import load_dotenv\n",
    "from alpaca.data.historical import StockHistoricalDataClient\n",
    "from alpaca.data.historical import StockHistoricalDataClient\n",
    "from alpaca.data.requests import StockBarsRequest\n",
    "from alpaca.data.timeframe import TimeFrame\n",
    "import pandas as pd\n",
    "from datetime import datetime\n",
    "from datetime import date\n",
    "from dateutil.relativedelta import relativedelta\n",
    "\n",
    "\n",
    "\n",
    "\n",
    "# Load .env into environment variables\n",
    "load_dotenv()\n",
    "\n",
    "API_KEY = os.getenv(\"ALPACA_API_KEY\")\n",
    "API_SECRET = os.getenv(\"ALPACA_SECRET_KEY\")\n",
    "\n",
    "client = StockHistoricalDataClient(API_KEY, API_SECRET)\n",
    "# Define request\n",
    "symbol = 'mmm'\n",
    "request = StockBarsRequest(\n",
    "    symbol_or_symbols=[symbol],\n",
    "    timeframe=TimeFrame.Day,\n",
    "    start=datetime.combine(date.today()- relativedelta(years=1), datetime.min.time()),\n",
    "    end=datetime.combine(date.today(), datetime.min.time())\n",
    ")\n",
    "\n",
    "# Fetch data\n",
    "bars = client.get_stock_bars(request)\n",
    "df = bars.df  # Convert to pandas DataFrame\n",
    "df = df.reset_index()"
   ]
  }
 ],
 "metadata": {
  "kernelspec": {
   "display_name": "Python 3 (ipykernel)",
   "language": "python",
   "name": "python3"
  },
  "language_info": {
   "codemirror_mode": {
    "name": "ipython",
    "version": 3
   },
   "file_extension": ".py",
   "mimetype": "text/x-python",
   "name": "python",
   "nbconvert_exporter": "python",
   "pygments_lexer": "ipython3",
   "version": "3.9.18"
  }
 },
 "nbformat": 4,
 "nbformat_minor": 5
}
