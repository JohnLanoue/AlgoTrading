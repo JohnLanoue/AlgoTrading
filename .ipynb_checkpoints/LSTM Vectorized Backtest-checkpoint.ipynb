{
 "cells": [
  {
   "cell_type": "markdown",
   "id": "1cad6d71",
   "metadata": {},
   "source": []
  },
  {
   "cell_type": "code",
   "execution_count": 25,
   "id": "e6c250d9",
   "metadata": {},
   "outputs": [
    {
     "name": "stderr",
     "output_type": "stream",
     "text": [
      "2025-08-25 17:55:16.758203: I tensorflow/core/platform/cpu_feature_guard.cc:210] This TensorFlow binary is optimized to use available CPU instructions in performance-critical operations.\n",
      "To enable the following instructions: AVX2 FMA, in other operations, rebuild TensorFlow with the appropriate compiler flags.\n"
     ]
    }
   ],
   "source": [
    "import numpy as np\n",
    "from keras.models import Sequential \n",
    "from keras.layers import Dense \n",
    "from keras.layers import LSTM \n",
    "#from keras.layers.embeddings import Embedding \n",
    "from keras.layers import Embedding\n",
    "from keras.preprocessing import sequence\n",
    "from keras.layers import Dropout"
   ]
  },
  {
   "cell_type": "markdown",
   "id": "10c500d5",
   "metadata": {},
   "source": [
    "### Get Data from alpaca"
   ]
  },
  {
   "cell_type": "code",
   "execution_count": null,
   "id": "36358a0e",
   "metadata": {},
   "outputs": [],
   "source": [
    "from Alpaca_Connection import get_data_today\n",
    "bars = get_data_today('mmm')\n",
    "df= get_data_today('mmm')"
   ]
  },
  {
   "cell_type": "code",
   "execution_count": 21,
   "id": "db1e66fd",
   "metadata": {},
   "outputs": [],
   "source": [
    "\n",
    "#df = bars.df  # Convert to pandas DataFrame\n",
    "df = df.reset_index()\n",
    "# As you can see the simple import process allows for us to get an overall view of the daily market trade.  The date of the market instance is indexed making it easy to carry these variables without loosing the time coefficient.  For the aformentioned emphesis on simplicity we are going to focus on the market close price.  \n",
    "df = df.rename(columns = {'open':'Open', 'high':'High', 'low':'Low', 'close':'Close', 'volume':'Volume', 'trade_count':'Trade Count'})\n",
    "\n",
    "\n",
    "# It would appear that this may or may not be a great opportunity to buy.  It appears to have experianced a remarkable correction in February.  I hope to create a model that represents the best course of action.  \n",
    "\n",
    "# ## Prepping the test data\n",
    "# We are going to predict 38 days of open market into the furture giving us about 15% of the data.  We create a new variable to the dataframe called 'Prediction' where we look at the next 38 days close value and will use it as a response. \n",
    "\n",
    "df = df.reset_index()\n",
    "future_days = 38\n",
    "df['Prediction'] = df[['Close']].shift(-future_days)\n",
    "\n"
   ]
  },
  {
   "cell_type": "code",
   "execution_count": 23,
   "id": "4612d881",
   "metadata": {},
   "outputs": [
    {
     "name": "stdout",
     "output_type": "stream",
     "text": [
      "True Values\n",
      "[135.14 134.84 131.73 127.91 126.47 124.75 130.29 129.27 127.56 128.47\n",
      " 127.22 125.85 126.52 133.92 133.07 134.34 133.   130.35 131.45 132.32\n",
      " 129.79 130.17 128.19 127.84 127.32 128.42 130.32 132.95 132.48 133.53\n",
      " 132.89 131.15 130.45 133.33 133.11 131.49 129.77 129.77 129.75 129.92\n",
      " 129.47 128.05 125.53 127.13 129.28 128.98 130.36 131.18 130.18 129.13\n",
      " 129.09 129.7  129.87 130.29 132.77 134.53 131.21 134.6  137.21 137.78\n",
      " 139.18 141.03 146.89 149.12 149.63 149.43 151.52 151.4  151.54 154.4\n",
      " 152.2  150.04 151.68 152.45 152.32 149.87 149.69 150.07 148.87 148.72\n",
      " 148.62 148.99 150.2  149.08 144.98 145.48 146.54 147.43 150.52 155.12\n",
      " 153.42 145.86 147.61 146.94 146.3  147.62 147.54 150.24 146.1  150.41\n",
      " 153.21 150.92 153.21 151.27 150.36 153.15 153.5  152.68 148.44 144.84\n",
      " 146.86 147.67 147.76 139.74 126.91 128.55 127.16 138.32 132.97 135.95\n",
      " 136.01 135.26 130.46 130.21 126.09 136.33 136.06 138.88 137.32 137.93\n",
      " 138.38 138.91 137.9  142.08 140.8  138.02 138.64 141.12 142.6  150.33\n",
      " 150.74 147.88 148.74 153.11 154.14 154.15 149.4  149.78 147.62 149.49\n",
      " 148.66 149.63 148.35 146.4  148.13 146.81 146.26 145.5  144.23 145.06\n",
      " 147.18 144.77 142.32 145.07 142.21 142.51 144.03 147.6  149.87 147.75\n",
      " 150.76 152.02 152.24 153.81 153.97 152.94 151.84 153.74 155.98 157.32\n",
      " 155.84 157.91 156.59 157.56 159.04 153.23 152.82 151.2  150.82 149.3\n",
      " 151.27 152.05 151.79 146.62 149.22 144.41 147.87 150.09 150.82 151.74\n",
      " 153.3  155.31 157.85 160.2  156.65 152.39 152.86 154.34 154.75 154.38\n",
      " 158.72]\n"
     ]
    }
   ],
   "source": [
    "\n",
    "X = np.array(df.drop(['Prediction','index', 'symbol', 'timestamp'], axis = 1))[:-future_days]\n",
    "y = np.array(df['Prediction'])[:-future_days]\n",
    "print(\"True Values\")\n",
    "print(y)\n",
    "\n",
    "\n",
    "# Finally, we use the prediction column to create an array of the the future predictor days.  \n",
    "\n",
    "# Get the last 'x' rows of the feature data set\n",
    "x_future = df.drop(['index','Prediction', 'symbol', 'timestamp'],axis = 1)[:-future_days]\n",
    "x_future = x_future.tail(future_days)\n",
    "x_future = np.array(x_future)\n",
    "# ## Splitting the data for performance testing\n",
    "# In addition to the visual analysis, we are going to want to use our conventional Test/train split in order to train the data. We can use our conventional train_test_split dividing our 'live' close date with our prediction close date.   \n",
    "from sklearn.model_selection import train_test_split\n",
    "\n",
    "X_train, X_test, y_train, y_test = train_test_split(X,y)\n"
   ]
  },
  {
   "cell_type": "code",
   "execution_count": 26,
   "id": "b19f9656",
   "metadata": {},
   "outputs": [
    {
     "name": "stdout",
     "output_type": "stream",
     "text": [
      "Epoch 1/10\n"
     ]
    },
    {
     "name": "stderr",
     "output_type": "stream",
     "text": [
      "/opt/anaconda3/lib/python3.9/site-packages/keras/src/layers/rnn/rnn.py:204: UserWarning: Do not pass an `input_shape`/`input_dim` argument to a layer. When using Sequential models, prefer using an `Input(shape)` object as the first layer in the model instead.\n",
      "  super().__init__(**kwargs)\n"
     ]
    },
    {
     "name": "stdout",
     "output_type": "stream",
     "text": [
      "\u001b[1m151/151\u001b[0m \u001b[32m━━━━━━━━━━━━━━━━━━━━\u001b[0m\u001b[37m\u001b[0m \u001b[1m4s\u001b[0m 14ms/step - loss: 0.0443\n",
      "Epoch 2/10\n",
      "\u001b[1m151/151\u001b[0m \u001b[32m━━━━━━━━━━━━━━━━━━━━\u001b[0m\u001b[37m\u001b[0m \u001b[1m2s\u001b[0m 14ms/step - loss: 0.0154\n",
      "Epoch 3/10\n",
      "\u001b[1m151/151\u001b[0m \u001b[32m━━━━━━━━━━━━━━━━━━━━\u001b[0m\u001b[37m\u001b[0m \u001b[1m2s\u001b[0m 14ms/step - loss: 0.0131\n",
      "Epoch 4/10\n",
      "\u001b[1m151/151\u001b[0m \u001b[32m━━━━━━━━━━━━━━━━━━━━\u001b[0m\u001b[37m\u001b[0m \u001b[1m2s\u001b[0m 14ms/step - loss: 0.0174\n",
      "Epoch 5/10\n",
      "\u001b[1m151/151\u001b[0m \u001b[32m━━━━━━━━━━━━━━━━━━━━\u001b[0m\u001b[37m\u001b[0m \u001b[1m2s\u001b[0m 14ms/step - loss: 0.0138\n",
      "Epoch 6/10\n",
      "\u001b[1m151/151\u001b[0m \u001b[32m━━━━━━━━━━━━━━━━━━━━\u001b[0m\u001b[37m\u001b[0m \u001b[1m2s\u001b[0m 14ms/step - loss: 0.0168\n",
      "Epoch 7/10\n",
      "\u001b[1m151/151\u001b[0m \u001b[32m━━━━━━━━━━━━━━━━━━━━\u001b[0m\u001b[37m\u001b[0m \u001b[1m2s\u001b[0m 14ms/step - loss: 0.0110\n",
      "Epoch 8/10\n",
      "\u001b[1m151/151\u001b[0m \u001b[32m━━━━━━━━━━━━━━━━━━━━\u001b[0m\u001b[37m\u001b[0m \u001b[1m2s\u001b[0m 14ms/step - loss: 0.0087\n",
      "Epoch 9/10\n",
      "\u001b[1m151/151\u001b[0m \u001b[32m━━━━━━━━━━━━━━━━━━━━\u001b[0m\u001b[37m\u001b[0m \u001b[1m2s\u001b[0m 14ms/step - loss: 0.0089\n",
      "Epoch 10/10\n",
      "\u001b[1m151/151\u001b[0m \u001b[32m━━━━━━━━━━━━━━━━━━━━\u001b[0m\u001b[37m\u001b[0m \u001b[1m2s\u001b[0m 14ms/step - loss: 0.0124\n",
      "\u001b[1m2/2\u001b[0m \u001b[32m━━━━━━━━━━━━━━━━━━━━\u001b[0m\u001b[37m\u001b[0m \u001b[1m0s\u001b[0m 194ms/step\n"
     ]
    },
    {
     "data": {
      "text/plain": [
       "array([[153.14299],\n",
       "       [154.13379],\n",
       "       [154.60254],\n",
       "       [154.05539],\n",
       "       [152.93729],\n",
       "       [153.25577],\n",
       "       [154.78601],\n",
       "       [156.42429],\n",
       "       [156.3295 ],\n",
       "       [157.148  ],\n",
       "       [156.79585],\n",
       "       [156.9584 ],\n",
       "       [157.87128],\n",
       "       [155.04709],\n",
       "       [153.06624],\n",
       "       [151.36263],\n",
       "       [150.4482 ],\n",
       "       [149.42064],\n",
       "       [150.0285 ],\n",
       "       [151.09415],\n",
       "       [151.67368],\n",
       "       [149.27122],\n",
       "       [149.01613],\n",
       "       [146.78812],\n",
       "       [147.12856],\n",
       "       [148.86343],\n",
       "       [150.46878],\n",
       "       [151.81407],\n",
       "       [153.28029],\n",
       "       [155.07077],\n",
       "       [157.32356],\n",
       "       [159.6757 ],\n",
       "       [158.49637],\n",
       "       [154.91562],\n",
       "       [153.08463],\n",
       "       [153.1619 ],\n",
       "       [153.70879],\n",
       "       [153.89986]], dtype=float32)"
      ]
     },
     "execution_count": 26,
     "metadata": {},
     "output_type": "execute_result"
    }
   ],
   "source": [
    "# ## LSTM network\n",
    "# From background research I have done with predictive stock market modeling it appears that LSTM is the most common method used and I would not be a fool to explore it.  It manages to hold onto important information and 'forget' about useless information hence Long Term Short Memory.  \n",
    "# ### Reprep the data\n",
    "# It appeares that the LSTM Model is much more sensitive to the data structure than the other methods.  After running the same data the model was set on deliving a constant.  It appears that the data has to me scaled and properly wrangled before usage.  Hence we will have to reprepare the data.  \n",
    "\n",
    "# As seen before we are going to look at the market close data and prepare all but 38 values to generate predictions.  \n",
    "\n",
    "lstmData = df.filter(['Close'])\n",
    "dataset = lstmData.values\n",
    "training_data_len = len(dataset)-38\n",
    "\n",
    "\n",
    "# Now as mentioned above, we have to scale the data.  Using the min max scaler we can turn all of our data into decimals (except for the min =0 and max =1).  We will save this data into our scaled_data datset.    \n",
    "\n",
    "#Scale the data \n",
    "from sklearn.preprocessing import MinMaxScaler\n",
    "scaler = MinMaxScaler(feature_range=(0,1))\n",
    "scaled_data = scaler.fit_transform(dataset)\n",
    "\n",
    "\n",
    "# Below you will see that we need to split the data again into x and y train and test.  Using a 60 day offset we can append them to an empty list using the prior 60 days to predict the next 60 days.  \n",
    "\n",
    "#Re create Training Set \n",
    "lstm_train_data = scaled_data[0:training_data_len,:]\n",
    "test_data = scaled_data[training_data_len - 60: ,:]\n",
    "\n",
    "# Create the datasets\n",
    "lstm_x_train = []\n",
    "lstm_y_train = []\n",
    "lstm_x_test = []\n",
    "lstm_y_test = dataset[training_data_len:, :]\n",
    "\n",
    "for i in range(60, len(lstm_train_data)):\n",
    "    lstm_x_train.append(lstm_train_data[i-60:i])\n",
    "    lstm_y_train.append(lstm_train_data[i,0])\n",
    "    \n",
    "\n",
    "for i in range(60, len(test_data)): \n",
    "    lstm_x_test.append(test_data[i-60:i, 0])    \n",
    "\n",
    "\n",
    "# Now we have to convert the lists into numpy arrays so the data can be read.  Also, we have to reshape them into a format that the LSTM will understand.  \n",
    "\n",
    "#Conver to numpy\n",
    "lstm_x_train, lstm_y_train =   np.array(lstm_x_train), np.array(lstm_y_train)\n",
    "lstm_x_test = np.array(lstm_x_test)\n",
    "#Reshape the data\n",
    "lstm_x_train = np.reshape(lstm_x_train, (lstm_x_train.shape[0], lstm_x_train.shape[1], 1))\n",
    "lstm_x_test = np.reshape(lstm_x_test, (lstm_x_test.shape[0], lstm_x_test.shape[1], 1))\n",
    "\n",
    "\n",
    "# Finally, we are back to building the models.  We are using 4 layers: The first two training layers then a dense layer and finally an output layer.  \n",
    "model = Sequential() \n",
    "model.add(LSTM(50, return_sequences = True, input_shape=(lstm_x_train.shape[1],1)))\n",
    "model.add(LSTM(50, return_sequences = False))\n",
    "model.add(Dense(25))\n",
    "model.add(Dense(1))\n",
    "# Now that we have created the network, we can run the data through using the MSE method.  We will use 10 epocs because the loss is low, but futher iterations are not necessary.  Finally we have to undo the scaling to our predictions.  \n",
    "\n",
    "#Compile the model \n",
    "model.compile(optimizer='adam', loss='mean_squared_error')\n",
    "#Train the model \n",
    "model.fit(lstm_x_train, lstm_y_train, batch_size = 1, epochs = 10)  \n",
    "LSTM_predictions = model.predict(lstm_x_test)\n",
    "LSTM_predictions = scaler.inverse_transform(LSTM_predictions)\n",
    "LSTM_predictions"
   ]
  },
  {
   "cell_type": "code",
   "execution_count": 27,
   "id": "36a07599",
   "metadata": {},
   "outputs": [
    {
     "name": "stdout",
     "output_type": "stream",
     "text": [
      "Actual Values:\n"
     ]
    },
    {
     "name": "stderr",
     "output_type": "stream",
     "text": [
      "/var/folders/3r/pc8xl1ls1y35f9xzjdj87z0c0000gn/T/ipykernel_2335/2276115397.py:5: SettingWithCopyWarning: \n",
      "A value is trying to be set on a copy of a slice from a DataFrame.\n",
      "Try using .loc[row_indexer,col_indexer] = value instead\n",
      "\n",
      "See the caveats in the documentation: https://pandas.pydata.org/pandas-docs/stable/user_guide/indexing.html#returning-a-view-versus-a-copy\n",
      "  v['Predictions'] = LSTM_predictions\n"
     ]
    },
    {
     "data": {
      "text/plain": [
       "[139.765,\n",
       " 150.0,\n",
       " 137.05,\n",
       " 144.49,\n",
       " 129.92,\n",
       " 153.47,\n",
       " 133.78,\n",
       " 143.04,\n",
       " 133.87,\n",
       " 127.738,\n",
       " 132.15,\n",
       " 134.43,\n",
       " 139.31,\n",
       " 142.15,\n",
       " 151.11,\n",
       " 130.35,\n",
       " 149.18,\n",
       " 132.72,\n",
       " 148.36,\n",
       " 149.86,\n",
       " 152.46,\n",
       " 129.45,\n",
       " 150.1,\n",
       " 155.5,\n",
       " 137.34,\n",
       " 154.025,\n",
       " 151.63,\n",
       " 134.99,\n",
       " 130.6,\n",
       " 131.25,\n",
       " 153.28,\n",
       " 134.4799,\n",
       " 135.02,\n",
       " 132.62,\n",
       " 133.18,\n",
       " 137.22,\n",
       " 130.6699,\n",
       " 150.36,\n",
       " 152.78,\n",
       " 150.46,\n",
       " 128.52,\n",
       " 134.68,\n",
       " 147.72,\n",
       " 129.84,\n",
       " 141.34,\n",
       " 131.18,\n",
       " 133.85,\n",
       " 151.0399,\n",
       " 152.76,\n",
       " 139.5,\n",
       " 130.05,\n",
       " 148.85,\n",
       " 145.39]"
      ]
     },
     "execution_count": 27,
     "metadata": {},
     "output_type": "execute_result"
    }
   ],
   "source": [
    "# Because of the necessary transformations that were done to the model, we cannot use the same function as above. However we can poach  a massive chunk from above and paste it into our model.  \n",
    "\n",
    "t = lstmData[:training_data_len]\n",
    "v = lstmData[training_data_len:]\n",
    "v['Predictions'] = LSTM_predictions\n",
    "\n",
    "\n",
    "\n",
    "#mean_squared_error(X_test[:38],LSTM_predictions)\n",
    "\n",
    "print(\"Actual Values:\")\n",
    "X_test[0][2]\n",
    "#df.head()\n",
    "X_test[0]\n",
    "\n",
    "    \n",
    "[row[2] for row in X_test]\n"
   ]
  },
  {
   "cell_type": "markdown",
   "id": "f32947ae",
   "metadata": {},
   "source": [
    "## Buy/Sell Strategy: \n",
    "If the next prediction is less than current actual: Sell\n",
    "If the next prediction is more than the current actual: Buy\n",
    "Create a dataframe of the values with the buy/sell signal.  \n",
    "Then create look into backtesting the signal.  "
   ]
  },
  {
   "cell_type": "code",
   "execution_count": 37,
   "id": "4d7707b7",
   "metadata": {},
   "outputs": [
    {
     "data": {
      "text/html": [
       "<div>\n",
       "<style scoped>\n",
       "    .dataframe tbody tr th:only-of-type {\n",
       "        vertical-align: middle;\n",
       "    }\n",
       "\n",
       "    .dataframe tbody tr th {\n",
       "        vertical-align: top;\n",
       "    }\n",
       "\n",
       "    .dataframe thead th {\n",
       "        text-align: right;\n",
       "    }\n",
       "</style>\n",
       "<table border=\"1\" class=\"dataframe\">\n",
       "  <thead>\n",
       "    <tr style=\"text-align: right;\">\n",
       "      <th></th>\n",
       "      <th>Actuals</th>\n",
       "      <th>Predictions</th>\n",
       "      <th>Predictions Offset</th>\n",
       "      <th>signal</th>\n",
       "      <th>returns</th>\n",
       "      <th>strategy</th>\n",
       "    </tr>\n",
       "  </thead>\n",
       "  <tbody>\n",
       "    <tr>\n",
       "      <th>0</th>\n",
       "      <td>130.3500</td>\n",
       "      <td>153.142990</td>\n",
       "      <td>NaN</td>\n",
       "      <td>-1</td>\n",
       "      <td>NaN</td>\n",
       "      <td>NaN</td>\n",
       "    </tr>\n",
       "    <tr>\n",
       "      <th>1</th>\n",
       "      <td>149.1800</td>\n",
       "      <td>154.133789</td>\n",
       "      <td>153.142990</td>\n",
       "      <td>-1</td>\n",
       "      <td>0.134930</td>\n",
       "      <td>-0.134930</td>\n",
       "    </tr>\n",
       "    <tr>\n",
       "      <th>2</th>\n",
       "      <td>132.7200</td>\n",
       "      <td>154.602539</td>\n",
       "      <td>154.133789</td>\n",
       "      <td>-1</td>\n",
       "      <td>-0.116912</td>\n",
       "      <td>0.116912</td>\n",
       "    </tr>\n",
       "    <tr>\n",
       "      <th>3</th>\n",
       "      <td>148.3600</td>\n",
       "      <td>154.055389</td>\n",
       "      <td>154.602539</td>\n",
       "      <td>-1</td>\n",
       "      <td>0.111400</td>\n",
       "      <td>-0.111400</td>\n",
       "    </tr>\n",
       "    <tr>\n",
       "      <th>4</th>\n",
       "      <td>149.8600</td>\n",
       "      <td>152.937286</td>\n",
       "      <td>154.055389</td>\n",
       "      <td>-1</td>\n",
       "      <td>0.010060</td>\n",
       "      <td>-0.010060</td>\n",
       "    </tr>\n",
       "    <tr>\n",
       "      <th>5</th>\n",
       "      <td>152.4600</td>\n",
       "      <td>153.255768</td>\n",
       "      <td>152.937286</td>\n",
       "      <td>-1</td>\n",
       "      <td>0.017201</td>\n",
       "      <td>-0.017201</td>\n",
       "    </tr>\n",
       "    <tr>\n",
       "      <th>6</th>\n",
       "      <td>129.4500</td>\n",
       "      <td>154.786011</td>\n",
       "      <td>153.255768</td>\n",
       "      <td>-1</td>\n",
       "      <td>-0.163608</td>\n",
       "      <td>0.163608</td>\n",
       "    </tr>\n",
       "    <tr>\n",
       "      <th>7</th>\n",
       "      <td>150.1000</td>\n",
       "      <td>156.424286</td>\n",
       "      <td>154.786011</td>\n",
       "      <td>-1</td>\n",
       "      <td>0.148007</td>\n",
       "      <td>-0.148007</td>\n",
       "    </tr>\n",
       "    <tr>\n",
       "      <th>8</th>\n",
       "      <td>155.5000</td>\n",
       "      <td>156.329498</td>\n",
       "      <td>156.424286</td>\n",
       "      <td>-1</td>\n",
       "      <td>0.035344</td>\n",
       "      <td>-0.035344</td>\n",
       "    </tr>\n",
       "    <tr>\n",
       "      <th>9</th>\n",
       "      <td>137.3400</td>\n",
       "      <td>157.147995</td>\n",
       "      <td>156.329498</td>\n",
       "      <td>-1</td>\n",
       "      <td>-0.124186</td>\n",
       "      <td>0.124186</td>\n",
       "    </tr>\n",
       "    <tr>\n",
       "      <th>10</th>\n",
       "      <td>154.0250</td>\n",
       "      <td>156.795853</td>\n",
       "      <td>157.147995</td>\n",
       "      <td>-1</td>\n",
       "      <td>0.114655</td>\n",
       "      <td>-0.114655</td>\n",
       "    </tr>\n",
       "    <tr>\n",
       "      <th>11</th>\n",
       "      <td>151.6300</td>\n",
       "      <td>156.958405</td>\n",
       "      <td>156.795853</td>\n",
       "      <td>-1</td>\n",
       "      <td>-0.015672</td>\n",
       "      <td>0.015672</td>\n",
       "    </tr>\n",
       "    <tr>\n",
       "      <th>12</th>\n",
       "      <td>134.9900</td>\n",
       "      <td>157.871277</td>\n",
       "      <td>156.958405</td>\n",
       "      <td>-1</td>\n",
       "      <td>-0.116243</td>\n",
       "      <td>0.116243</td>\n",
       "    </tr>\n",
       "    <tr>\n",
       "      <th>13</th>\n",
       "      <td>130.6000</td>\n",
       "      <td>155.047089</td>\n",
       "      <td>157.871277</td>\n",
       "      <td>-1</td>\n",
       "      <td>-0.033061</td>\n",
       "      <td>0.033061</td>\n",
       "    </tr>\n",
       "    <tr>\n",
       "      <th>14</th>\n",
       "      <td>131.2500</td>\n",
       "      <td>153.066238</td>\n",
       "      <td>155.047089</td>\n",
       "      <td>-1</td>\n",
       "      <td>0.004965</td>\n",
       "      <td>-0.004965</td>\n",
       "    </tr>\n",
       "    <tr>\n",
       "      <th>15</th>\n",
       "      <td>153.2800</td>\n",
       "      <td>151.362625</td>\n",
       "      <td>153.066238</td>\n",
       "      <td>1</td>\n",
       "      <td>0.155162</td>\n",
       "      <td>0.155162</td>\n",
       "    </tr>\n",
       "    <tr>\n",
       "      <th>16</th>\n",
       "      <td>134.4799</td>\n",
       "      <td>150.448196</td>\n",
       "      <td>151.362625</td>\n",
       "      <td>-1</td>\n",
       "      <td>-0.130852</td>\n",
       "      <td>0.130852</td>\n",
       "    </tr>\n",
       "    <tr>\n",
       "      <th>17</th>\n",
       "      <td>135.0200</td>\n",
       "      <td>149.420639</td>\n",
       "      <td>150.448196</td>\n",
       "      <td>-1</td>\n",
       "      <td>0.004008</td>\n",
       "      <td>-0.004008</td>\n",
       "    </tr>\n",
       "    <tr>\n",
       "      <th>18</th>\n",
       "      <td>132.6200</td>\n",
       "      <td>150.028503</td>\n",
       "      <td>149.420639</td>\n",
       "      <td>-1</td>\n",
       "      <td>-0.017935</td>\n",
       "      <td>0.017935</td>\n",
       "    </tr>\n",
       "    <tr>\n",
       "      <th>19</th>\n",
       "      <td>133.1800</td>\n",
       "      <td>151.094147</td>\n",
       "      <td>150.028503</td>\n",
       "      <td>-1</td>\n",
       "      <td>0.004214</td>\n",
       "      <td>-0.004214</td>\n",
       "    </tr>\n",
       "    <tr>\n",
       "      <th>20</th>\n",
       "      <td>137.2200</td>\n",
       "      <td>151.673676</td>\n",
       "      <td>151.094147</td>\n",
       "      <td>-1</td>\n",
       "      <td>0.029884</td>\n",
       "      <td>-0.029884</td>\n",
       "    </tr>\n",
       "    <tr>\n",
       "      <th>21</th>\n",
       "      <td>130.6699</td>\n",
       "      <td>149.271225</td>\n",
       "      <td>151.673676</td>\n",
       "      <td>-1</td>\n",
       "      <td>-0.048911</td>\n",
       "      <td>0.048911</td>\n",
       "    </tr>\n",
       "    <tr>\n",
       "      <th>22</th>\n",
       "      <td>150.3600</td>\n",
       "      <td>149.016129</td>\n",
       "      <td>149.271225</td>\n",
       "      <td>1</td>\n",
       "      <td>0.140358</td>\n",
       "      <td>0.140358</td>\n",
       "    </tr>\n",
       "    <tr>\n",
       "      <th>23</th>\n",
       "      <td>152.7800</td>\n",
       "      <td>146.788116</td>\n",
       "      <td>149.016129</td>\n",
       "      <td>1</td>\n",
       "      <td>0.015967</td>\n",
       "      <td>0.015967</td>\n",
       "    </tr>\n",
       "    <tr>\n",
       "      <th>24</th>\n",
       "      <td>150.4600</td>\n",
       "      <td>147.128555</td>\n",
       "      <td>146.788116</td>\n",
       "      <td>1</td>\n",
       "      <td>-0.015302</td>\n",
       "      <td>-0.015302</td>\n",
       "    </tr>\n",
       "    <tr>\n",
       "      <th>25</th>\n",
       "      <td>128.5200</td>\n",
       "      <td>148.863434</td>\n",
       "      <td>147.128555</td>\n",
       "      <td>-1</td>\n",
       "      <td>-0.157613</td>\n",
       "      <td>0.157613</td>\n",
       "    </tr>\n",
       "    <tr>\n",
       "      <th>26</th>\n",
       "      <td>134.6800</td>\n",
       "      <td>150.468781</td>\n",
       "      <td>148.863434</td>\n",
       "      <td>-1</td>\n",
       "      <td>0.046817</td>\n",
       "      <td>-0.046817</td>\n",
       "    </tr>\n",
       "    <tr>\n",
       "      <th>27</th>\n",
       "      <td>147.7200</td>\n",
       "      <td>151.814072</td>\n",
       "      <td>150.468781</td>\n",
       "      <td>-1</td>\n",
       "      <td>0.092417</td>\n",
       "      <td>-0.092417</td>\n",
       "    </tr>\n",
       "    <tr>\n",
       "      <th>28</th>\n",
       "      <td>129.8400</td>\n",
       "      <td>153.280289</td>\n",
       "      <td>151.814072</td>\n",
       "      <td>-1</td>\n",
       "      <td>-0.129016</td>\n",
       "      <td>0.129016</td>\n",
       "    </tr>\n",
       "    <tr>\n",
       "      <th>29</th>\n",
       "      <td>141.3400</td>\n",
       "      <td>155.070770</td>\n",
       "      <td>153.280289</td>\n",
       "      <td>-1</td>\n",
       "      <td>0.084865</td>\n",
       "      <td>-0.084865</td>\n",
       "    </tr>\n",
       "    <tr>\n",
       "      <th>30</th>\n",
       "      <td>131.1800</td>\n",
       "      <td>157.323563</td>\n",
       "      <td>155.070770</td>\n",
       "      <td>-1</td>\n",
       "      <td>-0.074598</td>\n",
       "      <td>0.074598</td>\n",
       "    </tr>\n",
       "    <tr>\n",
       "      <th>31</th>\n",
       "      <td>133.8500</td>\n",
       "      <td>159.675705</td>\n",
       "      <td>157.323563</td>\n",
       "      <td>-1</td>\n",
       "      <td>0.020149</td>\n",
       "      <td>-0.020149</td>\n",
       "    </tr>\n",
       "    <tr>\n",
       "      <th>32</th>\n",
       "      <td>151.0399</td>\n",
       "      <td>158.496368</td>\n",
       "      <td>159.675705</td>\n",
       "      <td>-1</td>\n",
       "      <td>0.120824</td>\n",
       "      <td>-0.120824</td>\n",
       "    </tr>\n",
       "    <tr>\n",
       "      <th>33</th>\n",
       "      <td>152.7600</td>\n",
       "      <td>154.915619</td>\n",
       "      <td>158.496368</td>\n",
       "      <td>-1</td>\n",
       "      <td>0.011324</td>\n",
       "      <td>-0.011324</td>\n",
       "    </tr>\n",
       "    <tr>\n",
       "      <th>34</th>\n",
       "      <td>139.5000</td>\n",
       "      <td>153.084625</td>\n",
       "      <td>154.915619</td>\n",
       "      <td>-1</td>\n",
       "      <td>-0.090803</td>\n",
       "      <td>0.090803</td>\n",
       "    </tr>\n",
       "    <tr>\n",
       "      <th>35</th>\n",
       "      <td>130.0500</td>\n",
       "      <td>153.161896</td>\n",
       "      <td>153.084625</td>\n",
       "      <td>-1</td>\n",
       "      <td>-0.070146</td>\n",
       "      <td>0.070146</td>\n",
       "    </tr>\n",
       "    <tr>\n",
       "      <th>36</th>\n",
       "      <td>148.8500</td>\n",
       "      <td>153.708786</td>\n",
       "      <td>153.161896</td>\n",
       "      <td>-1</td>\n",
       "      <td>0.135020</td>\n",
       "      <td>-0.135020</td>\n",
       "    </tr>\n",
       "    <tr>\n",
       "      <th>37</th>\n",
       "      <td>145.3900</td>\n",
       "      <td>153.899857</td>\n",
       "      <td>153.708786</td>\n",
       "      <td>-1</td>\n",
       "      <td>-0.023519</td>\n",
       "      <td>0.023519</td>\n",
       "    </tr>\n",
       "  </tbody>\n",
       "</table>\n",
       "</div>"
      ],
      "text/plain": [
       "     Actuals  Predictions  Predictions Offset  signal   returns  strategy\n",
       "0   130.3500   153.142990                 NaN      -1       NaN       NaN\n",
       "1   149.1800   154.133789          153.142990      -1  0.134930 -0.134930\n",
       "2   132.7200   154.602539          154.133789      -1 -0.116912  0.116912\n",
       "3   148.3600   154.055389          154.602539      -1  0.111400 -0.111400\n",
       "4   149.8600   152.937286          154.055389      -1  0.010060 -0.010060\n",
       "5   152.4600   153.255768          152.937286      -1  0.017201 -0.017201\n",
       "6   129.4500   154.786011          153.255768      -1 -0.163608  0.163608\n",
       "7   150.1000   156.424286          154.786011      -1  0.148007 -0.148007\n",
       "8   155.5000   156.329498          156.424286      -1  0.035344 -0.035344\n",
       "9   137.3400   157.147995          156.329498      -1 -0.124186  0.124186\n",
       "10  154.0250   156.795853          157.147995      -1  0.114655 -0.114655\n",
       "11  151.6300   156.958405          156.795853      -1 -0.015672  0.015672\n",
       "12  134.9900   157.871277          156.958405      -1 -0.116243  0.116243\n",
       "13  130.6000   155.047089          157.871277      -1 -0.033061  0.033061\n",
       "14  131.2500   153.066238          155.047089      -1  0.004965 -0.004965\n",
       "15  153.2800   151.362625          153.066238       1  0.155162  0.155162\n",
       "16  134.4799   150.448196          151.362625      -1 -0.130852  0.130852\n",
       "17  135.0200   149.420639          150.448196      -1  0.004008 -0.004008\n",
       "18  132.6200   150.028503          149.420639      -1 -0.017935  0.017935\n",
       "19  133.1800   151.094147          150.028503      -1  0.004214 -0.004214\n",
       "20  137.2200   151.673676          151.094147      -1  0.029884 -0.029884\n",
       "21  130.6699   149.271225          151.673676      -1 -0.048911  0.048911\n",
       "22  150.3600   149.016129          149.271225       1  0.140358  0.140358\n",
       "23  152.7800   146.788116          149.016129       1  0.015967  0.015967\n",
       "24  150.4600   147.128555          146.788116       1 -0.015302 -0.015302\n",
       "25  128.5200   148.863434          147.128555      -1 -0.157613  0.157613\n",
       "26  134.6800   150.468781          148.863434      -1  0.046817 -0.046817\n",
       "27  147.7200   151.814072          150.468781      -1  0.092417 -0.092417\n",
       "28  129.8400   153.280289          151.814072      -1 -0.129016  0.129016\n",
       "29  141.3400   155.070770          153.280289      -1  0.084865 -0.084865\n",
       "30  131.1800   157.323563          155.070770      -1 -0.074598  0.074598\n",
       "31  133.8500   159.675705          157.323563      -1  0.020149 -0.020149\n",
       "32  151.0399   158.496368          159.675705      -1  0.120824 -0.120824\n",
       "33  152.7600   154.915619          158.496368      -1  0.011324 -0.011324\n",
       "34  139.5000   153.084625          154.915619      -1 -0.090803  0.090803\n",
       "35  130.0500   153.161896          153.084625      -1 -0.070146  0.070146\n",
       "36  148.8500   153.708786          153.161896      -1  0.135020 -0.135020\n",
       "37  145.3900   153.899857          153.708786      -1 -0.023519  0.023519"
      ]
     },
     "execution_count": 37,
     "metadata": {},
     "output_type": "execute_result"
    }
   ],
   "source": [
    "buy_sell = pd.DataFrame({\"Actuals\": [row[2] for row in X_test][15:]})#, \"Predictions\":LSTM_predictions })\n",
    "buy_sell[\"Predictions\"] = LSTM_predictions\n",
    "buy_sell[\"Predictions Offset\"] = pd.DataFrame(LSTM_predictions).shift(1)\n",
    "buy_sell[\"signal\"] = np.where(buy_sell[\"Actuals\"]> buy_sell[\"Predictions Offset\"], 1, -1 )\n",
    "buy_sell[\"returns\"] = np.log(buy_sell[\"Actuals\"]/ buy_sell[\"Actuals\"].shift(1))\n",
    "buy_sell[\"strategy\"] = buy_sell[\"returns\"]*buy_sell[\"signal\"]\n",
    "buy_sell"
   ]
  },
  {
   "cell_type": "code",
   "execution_count": 40,
   "id": "e13b1de4",
   "metadata": {},
   "outputs": [
    {
     "data": {
      "text/plain": [
       "returns     0.109197\n",
       "strategy    0.483174\n",
       "dtype: float64"
      ]
     },
     "execution_count": 40,
     "metadata": {},
     "output_type": "execute_result"
    }
   ],
   "source": [
    "buy_sell[[\"returns\", \"strategy\"]].sum()"
   ]
  },
  {
   "cell_type": "code",
   "execution_count": 42,
   "id": "307d56a9",
   "metadata": {},
   "outputs": [
    {
     "data": {
      "text/plain": [
       "returns     1.115382\n",
       "strategy    1.621212\n",
       "dtype: float64"
      ]
     },
     "execution_count": 42,
     "metadata": {},
     "output_type": "execute_result"
    }
   ],
   "source": [
    "buy_sell[[\"returns\", \"strategy\"]].sum().apply(np.exp)"
   ]
  },
  {
   "cell_type": "code",
   "execution_count": 44,
   "id": "92a8d2ff",
   "metadata": {},
   "outputs": [
    {
     "data": {
      "text/plain": [
       "<AxesSubplot:>"
      ]
     },
     "execution_count": 44,
     "metadata": {},
     "output_type": "execute_result"
    },
    {
     "data": {
      "image/png": "[encoded data removed]",
      "text/plain": [
       "<Figure size 640x480 with 1 Axes>"
      ]
     },
     "metadata": {},
     "output_type": "display_data"
    }
   ],
   "source": [
    "buy_sell[[\"returns\", \"strategy\"]].cumsum().apply(np.exp).plot()"
   ]
  },
  {
   "cell_type": "markdown",
   "id": "bbe6b751",
   "metadata": {},
   "source": [
    "## Average period return risk statistics for both the stock and strategy. \n",
    "(32 = # of cycles; 252 = annual period)\n",
    "\n",
    "Calculates the period mean return in both log and regular price\n",
    " \n",
    "Conclusion(8/30): Equal risk, much higher reward"
   ]
  },
  {
   "cell_type": "code",
   "execution_count": 52,
   "id": "795bedb0",
   "metadata": {},
   "outputs": [
    {
     "data": {
      "text/plain": [
       "returns     0.09444\n",
       "strategy    0.41788\n",
       "dtype: float64"
      ]
     },
     "execution_count": 52,
     "metadata": {},
     "output_type": "execute_result"
    }
   ],
   "source": [
    "buy_sell[['returns', 'strategy']].mean()*32"
   ]
  },
  {
   "cell_type": "code",
   "execution_count": 51,
   "id": "f6575fb7",
   "metadata": {},
   "outputs": [
    {
     "data": {
      "text/plain": [
       "returns     0.099044\n",
       "strategy    0.518739\n",
       "dtype: float64"
      ]
     },
     "execution_count": 51,
     "metadata": {},
     "output_type": "execute_result"
    }
   ],
   "source": [
    "np.exp(buy_sell[['returns', 'strategy']].mean()*32)-1"
   ]
  },
  {
   "cell_type": "markdown",
   "id": "43cb17d4",
   "metadata": {},
   "source": [
    "Calculates the period standard deviation of both log and regular spaces"
   ]
  },
  {
   "cell_type": "code",
   "execution_count": 53,
   "id": "2dd78b4a",
   "metadata": {},
   "outputs": [
    {
     "data": {
      "text/plain": [
       "returns     0.529001\n",
       "strategy    0.523946\n",
       "dtype: float64"
      ]
     },
     "execution_count": 53,
     "metadata": {},
     "output_type": "execute_result"
    }
   ],
   "source": [
    "buy_sell[['returns', 'strategy']].std()*32**.5"
   ]
  },
  {
   "cell_type": "code",
   "execution_count": 54,
   "id": "8c1c23d4",
   "metadata": {},
   "outputs": [
    {
     "data": {
      "text/plain": [
       "returns     0.531533\n",
       "strategy    0.532305\n",
       "dtype: float64"
      ]
     },
     "execution_count": 54,
     "metadata": {},
     "output_type": "execute_result"
    }
   ],
   "source": [
    "(buy_sell[['returns', 'strategy']].apply(np.exp)-1).std()*32**.5"
   ]
  },
  {
   "cell_type": "markdown",
   "id": "deecd86d",
   "metadata": {},
   "source": [
    "## Evaluate the drawdaown with the cummax/cumret\n",
    "\n",
    "Defines a new column, cumret, with a gross performance over time"
   ]
  },
  {
   "cell_type": "code",
   "execution_count": 55,
   "id": "e1ecd470",
   "metadata": {},
   "outputs": [],
   "source": [
    "## Evaluate the drawdaown with the cummax/cumret \n",
    "buy_sell['cumret'] =buy_sell['strategy'].cumsum().apply(np.exp)"
   ]
  },
  {
   "cell_type": "markdown",
   "id": "e0870f7a",
   "metadata": {},
   "source": [
    "Defines yet another column with a running maximum value of the gross performance"
   ]
  },
  {
   "cell_type": "code",
   "execution_count": 56,
   "id": "c30384af",
   "metadata": {},
   "outputs": [],
   "source": [
    "buy_sell['cummax'] = buy_sell['cumret'].cummax()"
   ]
  },
  {
   "cell_type": "code",
   "execution_count": 58,
   "id": "4002d2df",
   "metadata": {},
   "outputs": [
    {
     "data": {
      "text/plain": [
       "<AxesSubplot:>"
      ]
     },
     "execution_count": 58,
     "metadata": {},
     "output_type": "execute_result"
    },
    {
     "data": {
      "image/png": "[encoded data removed]",
      "text/plain": [
       "<Figure size 1000x600 with 1 Axes>"
      ]
     },
     "metadata": {},
     "output_type": "display_data"
    }
   ],
   "source": [
    "buy_sell[['cumret', 'cummax']].dropna().plot(figsize= (10,6))"
   ]
  },
  {
   "cell_type": "markdown",
   "id": "b44747c5",
   "metadata": {},
   "source": [
    "The max drawdown is calcualated as the difference between the two columns"
   ]
  },
  {
   "cell_type": "code",
   "execution_count": 60,
   "id": "fe7c0420",
   "metadata": {},
   "outputs": [
    {
     "data": {
      "text/plain": [
       "0.2910225496266545"
      ]
     },
     "execution_count": 60,
     "metadata": {},
     "output_type": "execute_result"
    }
   ],
   "source": [
    "drawdown = buy_sell['cummax'] - buy_sell['cumret']\n",
    "drawdown.max()"
   ]
  }
 ],
 "metadata": {
  "kernelspec": {
   "display_name": "Python 3 (ipykernel)",
   "language": "python",
   "name": "python3"
  },
  "language_info": {
   "codemirror_mode": {
    "name": "ipython",
    "version": 3
   },
   "file_extension": ".py",
   "mimetype": "text/x-python",
   "name": "python",
   "nbconvert_exporter": "python",
   "pygments_lexer": "ipython3",
   "version": "3.9.18"
  }
 },
 "nbformat": 4,
 "nbformat_minor": 5
}
