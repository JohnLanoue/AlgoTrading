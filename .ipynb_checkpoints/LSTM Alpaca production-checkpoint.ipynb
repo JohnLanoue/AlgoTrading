{
 "cells": [
  {
   "cell_type": "markdown",
   "id": "455a41d2",
   "metadata": {},
   "source": [
    "## Intent: \n",
    "Based on the LSTM Vectorized backtest, we are going to want to use that barbaric vectorized strategy to signal buy/sell from alpaca.  "
   ]
  },
  {
   "cell_type": "code",
   "execution_count": 39,
   "id": "768b0dcc",
   "metadata": {},
   "outputs": [],
   "source": [
    "from Packages.lstm import *#lstm, df_finalize, lstm_prep\n",
    "from Packages.Alpaca_Connection import get_data_today"
   ]
  },
  {
   "cell_type": "code",
   "execution_count": 40,
   "id": "5a320af1",
   "metadata": {},
   "outputs": [
    {
     "name": "stdout",
     "output_type": "stream",
     "text": [
      "Epoch 1/10\n"
     ]
    },
    {
     "name": "stderr",
     "output_type": "stream",
     "text": [
      "/opt/anaconda3/lib/python3.9/site-packages/keras/src/layers/rnn/rnn.py:204: UserWarning: Do not pass an `input_shape`/`input_dim` argument to a layer. When using Sequential models, prefer using an `Input(shape)` object as the first layer in the model instead.\n",
      "  super().__init__(**kwargs)\n"
     ]
    },
    {
     "name": "stdout",
     "output_type": "stream",
     "text": [
      "\u001b[1m152/152\u001b[0m \u001b[32m━━━━━━━━━━━━━━━━━━━━\u001b[0m\u001b[37m\u001b[0m \u001b[1m4s\u001b[0m 14ms/step - loss: 0.0792\n",
      "Epoch 2/10\n",
      "\u001b[1m152/152\u001b[0m \u001b[32m━━━━━━━━━━━━━━━━━━━━\u001b[0m\u001b[37m\u001b[0m \u001b[1m2s\u001b[0m 14ms/step - loss: 0.0250\n",
      "Epoch 3/10\n",
      "\u001b[1m152/152\u001b[0m \u001b[32m━━━━━━━━━━━━━━━━━━━━\u001b[0m\u001b[37m\u001b[0m \u001b[1m2s\u001b[0m 14ms/step - loss: 0.0142\n",
      "Epoch 4/10\n",
      "\u001b[1m152/152\u001b[0m \u001b[32m━━━━━━━━━━━━━━━━━━━━\u001b[0m\u001b[37m\u001b[0m \u001b[1m2s\u001b[0m 14ms/step - loss: 0.0146\n",
      "Epoch 5/10\n",
      "\u001b[1m152/152\u001b[0m \u001b[32m━━━━━━━━━━━━━━━━━━━━\u001b[0m\u001b[37m\u001b[0m \u001b[1m2s\u001b[0m 14ms/step - loss: 0.0100\n",
      "Epoch 6/10\n",
      "\u001b[1m152/152\u001b[0m \u001b[32m━━━━━━━━━━━━━━━━━━━━\u001b[0m\u001b[37m\u001b[0m \u001b[1m2s\u001b[0m 14ms/step - loss: 0.0089\n",
      "Epoch 7/10\n",
      "\u001b[1m152/152\u001b[0m \u001b[32m━━━━━━━━━━━━━━━━━━━━\u001b[0m\u001b[37m\u001b[0m \u001b[1m2s\u001b[0m 14ms/step - loss: 0.0175\n",
      "Epoch 8/10\n",
      "\u001b[1m152/152\u001b[0m \u001b[32m━━━━━━━━━━━━━━━━━━━━\u001b[0m\u001b[37m\u001b[0m \u001b[1m2s\u001b[0m 14ms/step - loss: 0.0124\n",
      "Epoch 9/10\n",
      "\u001b[1m152/152\u001b[0m \u001b[32m━━━━━━━━━━━━━━━━━━━━\u001b[0m\u001b[37m\u001b[0m \u001b[1m2s\u001b[0m 14ms/step - loss: 0.0098\n",
      "Epoch 10/10\n",
      "\u001b[1m152/152\u001b[0m \u001b[32m━━━━━━━━━━━━━━━━━━━━\u001b[0m\u001b[37m\u001b[0m \u001b[1m2s\u001b[0m 14ms/step - loss: 0.0081\n",
      "\u001b[1m2/2\u001b[0m \u001b[32m━━━━━━━━━━━━━━━━━━━━\u001b[0m\u001b[37m\u001b[0m \u001b[1m0s\u001b[0m 193ms/step\n"
     ]
    },
    {
     "name": "stderr",
     "output_type": "stream",
     "text": [
      "/Users/johnlanoue/Documents/GitHub/AlgoTrading/Packages/lstm.py:107: SettingWithCopyWarning: \n",
      "A value is trying to be set on a copy of a slice from a DataFrame.\n",
      "Try using .loc[row_indexer,col_indexer] = value instead\n",
      "\n",
      "See the caveats in the documentation: https://pandas.pydata.org/pandas-docs/stable/user_guide/indexing.html#returning-a-view-versus-a-copy\n",
      "  v['Predictions'] = LSTM_predictions\n"
     ]
    }
   ],
   "source": [
    "symbol = 'mmm'\n",
    "df = get_data_today(symbol)\n",
    "df = df_finalize(df)\n",
    "X_train, X_test, y_train, y_test = lstm_prep(df)\n",
    "results = lstm(df)\n"
   ]
  },
  {
   "cell_type": "code",
   "execution_count": 42,
   "id": "6dc7b63f",
   "metadata": {},
   "outputs": [
    {
     "data": {
      "text/plain": [
       "array([[148.67244],\n",
       "       [149.19987],\n",
       "       [147.47528],\n",
       "       [147.1582 ],\n",
       "       [145.37904],\n",
       "       [145.44319],\n",
       "       [146.67798],\n",
       "       [147.9771 ],\n",
       "       [149.1512 ],\n",
       "       [150.41957],\n",
       "       [151.92937],\n",
       "       [153.80104],\n",
       "       [155.78018],\n",
       "       [155.12054],\n",
       "       [152.43219],\n",
       "       [150.79501],\n",
       "       [150.60881],\n",
       "       [150.93112],\n",
       "       [151.0989 ],\n",
       "       [153.04092],\n",
       "       [153.15674],\n",
       "       [153.25806],\n",
       "       [153.23958],\n",
       "       [153.6191 ],\n",
       "       [152.98613],\n",
       "       [151.9653 ],\n",
       "       [150.42346],\n",
       "       [150.97133],\n",
       "       [151.54234],\n",
       "       [151.39021],\n",
       "       [150.85104],\n",
       "       [150.70924],\n",
       "       [153.18207],\n",
       "       [154.26407],\n",
       "       [154.10173],\n",
       "       [153.68373],\n",
       "       [152.781  ],\n",
       "       [152.29485]], dtype=float32)"
      ]
     },
     "execution_count": 42,
     "metadata": {},
     "output_type": "execute_result"
    }
   ],
   "source": [
    "results"
   ]
  },
  {
   "cell_type": "code",
   "execution_count": 43,
   "id": "f1da989f",
   "metadata": {},
   "outputs": [
    {
     "data": {
      "text/html": [
       "<div>\n",
       "<style scoped>\n",
       "    .dataframe tbody tr th:only-of-type {\n",
       "        vertical-align: middle;\n",
       "    }\n",
       "\n",
       "    .dataframe tbody tr th {\n",
       "        vertical-align: top;\n",
       "    }\n",
       "\n",
       "    .dataframe thead th {\n",
       "        text-align: right;\n",
       "    }\n",
       "</style>\n",
       "<table border=\"1\" class=\"dataframe\">\n",
       "  <thead>\n",
       "    <tr style=\"text-align: right;\">\n",
       "      <th></th>\n",
       "      <th>symbol</th>\n",
       "      <th>timestamp</th>\n",
       "      <th>Open</th>\n",
       "      <th>High</th>\n",
       "      <th>Low</th>\n",
       "      <th>Close</th>\n",
       "      <th>Volume</th>\n",
       "      <th>Trade Count</th>\n",
       "      <th>vwap</th>\n",
       "    </tr>\n",
       "  </thead>\n",
       "  <tbody>\n",
       "    <tr>\n",
       "      <th>0</th>\n",
       "      <td>MMM</td>\n",
       "      <td>2024-09-20 04:00:00+00:00</td>\n",
       "      <td>133.010</td>\n",
       "      <td>134.95</td>\n",
       "      <td>132.771</td>\n",
       "      <td>134.77</td>\n",
       "      <td>11579638.0</td>\n",
       "      <td>64581.0</td>\n",
       "      <td>134.561035</td>\n",
       "    </tr>\n",
       "    <tr>\n",
       "      <th>1</th>\n",
       "      <td>MMM</td>\n",
       "      <td>2024-09-23 04:00:00+00:00</td>\n",
       "      <td>134.700</td>\n",
       "      <td>136.09</td>\n",
       "      <td>134.690</td>\n",
       "      <td>135.64</td>\n",
       "      <td>2638392.0</td>\n",
       "      <td>46914.0</td>\n",
       "      <td>135.605503</td>\n",
       "    </tr>\n",
       "    <tr>\n",
       "      <th>2</th>\n",
       "      <td>MMM</td>\n",
       "      <td>2024-09-24 04:00:00+00:00</td>\n",
       "      <td>136.470</td>\n",
       "      <td>137.94</td>\n",
       "      <td>136.350</td>\n",
       "      <td>137.22</td>\n",
       "      <td>3145327.0</td>\n",
       "      <td>56245.0</td>\n",
       "      <td>137.179219</td>\n",
       "    </tr>\n",
       "    <tr>\n",
       "      <th>3</th>\n",
       "      <td>MMM</td>\n",
       "      <td>2024-09-25 04:00:00+00:00</td>\n",
       "      <td>137.230</td>\n",
       "      <td>137.89</td>\n",
       "      <td>136.040</td>\n",
       "      <td>136.60</td>\n",
       "      <td>3580080.0</td>\n",
       "      <td>44162.0</td>\n",
       "      <td>136.790328</td>\n",
       "    </tr>\n",
       "    <tr>\n",
       "      <th>4</th>\n",
       "      <td>MMM</td>\n",
       "      <td>2024-09-26 04:00:00+00:00</td>\n",
       "      <td>137.560</td>\n",
       "      <td>140.72</td>\n",
       "      <td>137.550</td>\n",
       "      <td>139.44</td>\n",
       "      <td>4111107.0</td>\n",
       "      <td>62292.0</td>\n",
       "      <td>139.348901</td>\n",
       "    </tr>\n",
       "    <tr>\n",
       "      <th>...</th>\n",
       "      <td>...</td>\n",
       "      <td>...</td>\n",
       "      <td>...</td>\n",
       "      <td>...</td>\n",
       "      <td>...</td>\n",
       "      <td>...</td>\n",
       "      <td>...</td>\n",
       "      <td>...</td>\n",
       "      <td>...</td>\n",
       "    </tr>\n",
       "    <tr>\n",
       "      <th>245</th>\n",
       "      <td>MMM</td>\n",
       "      <td>2025-09-15 04:00:00+00:00</td>\n",
       "      <td>158.000</td>\n",
       "      <td>158.38</td>\n",
       "      <td>155.250</td>\n",
       "      <td>156.66</td>\n",
       "      <td>3219697.0</td>\n",
       "      <td>50501.0</td>\n",
       "      <td>156.420707</td>\n",
       "    </tr>\n",
       "    <tr>\n",
       "      <th>246</th>\n",
       "      <td>MMM</td>\n",
       "      <td>2025-09-16 04:00:00+00:00</td>\n",
       "      <td>156.895</td>\n",
       "      <td>157.48</td>\n",
       "      <td>153.630</td>\n",
       "      <td>156.50</td>\n",
       "      <td>2208605.0</td>\n",
       "      <td>46981.0</td>\n",
       "      <td>155.671354</td>\n",
       "    </tr>\n",
       "    <tr>\n",
       "      <th>247</th>\n",
       "      <td>MMM</td>\n",
       "      <td>2025-09-17 04:00:00+00:00</td>\n",
       "      <td>156.495</td>\n",
       "      <td>158.54</td>\n",
       "      <td>153.540</td>\n",
       "      <td>155.16</td>\n",
       "      <td>2757388.0</td>\n",
       "      <td>49681.0</td>\n",
       "      <td>155.811632</td>\n",
       "    </tr>\n",
       "    <tr>\n",
       "      <th>248</th>\n",
       "      <td>MMM</td>\n",
       "      <td>2025-09-18 04:00:00+00:00</td>\n",
       "      <td>155.150</td>\n",
       "      <td>156.92</td>\n",
       "      <td>154.310</td>\n",
       "      <td>155.40</td>\n",
       "      <td>1795288.0</td>\n",
       "      <td>39373.0</td>\n",
       "      <td>155.427133</td>\n",
       "    </tr>\n",
       "    <tr>\n",
       "      <th>249</th>\n",
       "      <td>MMM</td>\n",
       "      <td>2025-09-19 04:00:00+00:00</td>\n",
       "      <td>155.910</td>\n",
       "      <td>157.41</td>\n",
       "      <td>154.690</td>\n",
       "      <td>156.60</td>\n",
       "      <td>6507181.0</td>\n",
       "      <td>45522.0</td>\n",
       "      <td>156.469185</td>\n",
       "    </tr>\n",
       "  </tbody>\n",
       "</table>\n",
       "<p>250 rows × 9 columns</p>\n",
       "</div>"
      ],
      "text/plain": [
       "    symbol                 timestamp     Open    High      Low   Close  \\\n",
       "0      MMM 2024-09-20 04:00:00+00:00  133.010  134.95  132.771  134.77   \n",
       "1      MMM 2024-09-23 04:00:00+00:00  134.700  136.09  134.690  135.64   \n",
       "2      MMM 2024-09-24 04:00:00+00:00  136.470  137.94  136.350  137.22   \n",
       "3      MMM 2024-09-25 04:00:00+00:00  137.230  137.89  136.040  136.60   \n",
       "4      MMM 2024-09-26 04:00:00+00:00  137.560  140.72  137.550  139.44   \n",
       "..     ...                       ...      ...     ...      ...     ...   \n",
       "245    MMM 2025-09-15 04:00:00+00:00  158.000  158.38  155.250  156.66   \n",
       "246    MMM 2025-09-16 04:00:00+00:00  156.895  157.48  153.630  156.50   \n",
       "247    MMM 2025-09-17 04:00:00+00:00  156.495  158.54  153.540  155.16   \n",
       "248    MMM 2025-09-18 04:00:00+00:00  155.150  156.92  154.310  155.40   \n",
       "249    MMM 2025-09-19 04:00:00+00:00  155.910  157.41  154.690  156.60   \n",
       "\n",
       "         Volume  Trade Count        vwap  \n",
       "0    11579638.0      64581.0  134.561035  \n",
       "1     2638392.0      46914.0  135.605503  \n",
       "2     3145327.0      56245.0  137.179219  \n",
       "3     3580080.0      44162.0  136.790328  \n",
       "4     4111107.0      62292.0  139.348901  \n",
       "..          ...          ...         ...  \n",
       "245   3219697.0      50501.0  156.420707  \n",
       "246   2208605.0      46981.0  155.671354  \n",
       "247   2757388.0      49681.0  155.811632  \n",
       "248   1795288.0      39373.0  155.427133  \n",
       "249   6507181.0      45522.0  156.469185  \n",
       "\n",
       "[250 rows x 9 columns]"
      ]
     },
     "execution_count": 43,
     "metadata": {},
     "output_type": "execute_result"
    }
   ],
   "source": [
    "raw= get_data_today()\n",
    "raw"
   ]
  },
  {
   "cell_type": "markdown",
   "id": "4f9bdef7",
   "metadata": {},
   "source": [
    "### Buy Sell Strategy: \n",
    "Just like in the backtest, if the value is higher, we buy, else we sell if the order is today.  We also need to consider, if we are selling, we need to have a share.  In the future, we may want to consider buying on margin, or trading options.  "
   ]
  },
  {
   "cell_type": "code",
   "execution_count": 27,
   "id": "9dc617ef",
   "metadata": {},
   "outputs": [],
   "source": [
    "from alpaca.data.live import StockDataStream\n",
    "from alpaca.trading.client import TradingClient\n",
    "from alpaca.trading.requests import MarketOrderRequest\n",
    "from alpaca.trading.enums import OrderSide, TimeInForce\n",
    "\n",
    "# Replace with your Alpaca API keys\n",
    "API_KEY = \"YOUR_API_KEY\"\n",
    "SECRET_KEY = \"YOUR_SECRET_KEY\"\n",
    "\n",
    "# Create trading client\n",
    "trading_client = TradingClient(API_KEY, SECRET_KEY, paper=True)  # paper=True for paper trading\n",
    "\n"
   ]
  },
  {
   "cell_type": "code",
   "execution_count": 45,
   "id": "5f102717",
   "metadata": {},
   "outputs": [
    {
     "ename": "SyntaxError",
     "evalue": "expression cannot contain assignment, perhaps you meant \"==\"? (1317435840.py, line 2)",
     "output_type": "error",
     "traceback": [
      "\u001b[0;36m  File \u001b[0;32m\"/var/folders/3r/pc8xl1ls1y35f9xzjdj87z0c0000gn/T/ipykernel_24796/1317435840.py\"\u001b[0;36m, line \u001b[0;32m2\u001b[0m\n\u001b[0;31m    df[\"timestamp\"].where(df[\"timestamp\"] = today())\u001b[0m\n\u001b[0m                          ^\u001b[0m\n\u001b[0;31mSyntaxError\u001b[0m\u001b[0;31m:\u001b[0m expression cannot contain assignment, perhaps you meant \"==\"?\n"
     ]
    }
   ],
   "source": [
    "\n",
    "\n",
    "\n",
    "df[\"timestamp\"][-1:]\n",
    "df[\"timestamp\"].where(df[\"timestamp\"] = today())"
   ]
  },
  {
   "cell_type": "code",
   "execution_count": 60,
   "id": "b75412ff",
   "metadata": {},
   "outputs": [
    {
     "ename": "TypeError",
     "evalue": "Addition/subtraction of integers and integer-arrays with Timestamp is no longer supported.  Instead of adding/subtracting `n`, use `n * obj.freq`",
     "output_type": "error",
     "traceback": [
      "\u001b[0;31m---------------------------------------------------------------------------\u001b[0m",
      "\u001b[0;31mTypeError\u001b[0m                                 Traceback (most recent call last)",
      "\u001b[0;32m/var/folders/3r/pc8xl1ls1y35f9xzjdj87z0c0000gn/T/ipykernel_24796/1189005488.py\u001b[0m in \u001b[0;36m<module>\u001b[0;34m\u001b[0m\n\u001b[1;32m      4\u001b[0m \u001b[0;34m\u001b[0m\u001b[0m\n\u001b[1;32m      5\u001b[0m \u001b[0mdf\u001b[0m\u001b[0;34m.\u001b[0m\u001b[0mloc\u001b[0m\u001b[0;34m[\u001b[0m\u001b[0mdf\u001b[0m\u001b[0;34m[\u001b[0m\u001b[0;34m\"timestamp\"\u001b[0m\u001b[0;34m]\u001b[0m \u001b[0;34m==\u001b[0m \u001b[0mtoday\u001b[0m\u001b[0;34m]\u001b[0m\u001b[0;34m\u001b[0m\u001b[0;34m\u001b[0m\u001b[0m\n\u001b[0;32m----> 6\u001b[0;31m \u001b[0mtoday\u001b[0m\u001b[0;34m-\u001b[0m\u001b[0;36m1\u001b[0m\u001b[0;34m\u001b[0m\u001b[0;34m\u001b[0m\u001b[0m\n\u001b[0m",
      "\u001b[0;32mtimestamps.pyx\u001b[0m in \u001b[0;36mpandas._libs.tslibs.timestamps._Timestamp.__sub__\u001b[0;34m()\u001b[0m\n",
      "\u001b[0;32mtimestamps.pyx\u001b[0m in \u001b[0;36mpandas._libs.tslibs.timestamps._Timestamp.__add__\u001b[0;34m()\u001b[0m\n",
      "\u001b[0;31mTypeError\u001b[0m: Addition/subtraction of integers and integer-arrays with Timestamp is no longer supported.  Instead of adding/subtracting `n`, use `n * obj.freq`"
     ]
    }
   ],
   "source": [
    "import pandas as pd\n",
    "today = pd.Timestamp(datetime.today().date())\n",
    "today\n",
    "\n",
    "df.loc[df[\"timestamp\"] == today]\n"
   ]
  },
  {
   "cell_type": "code",
   "execution_count": null,
   "id": "4684379f",
   "metadata": {},
   "outputs": [],
   "source": []
  },
  {
   "cell_type": "code",
   "execution_count": null,
   "id": "769a09f4",
   "metadata": {},
   "outputs": [],
   "source": [
    "# Example: Buy 1 share of AAPL\n",
    "market_order_data = MarketOrderRequest(\n",
    "    symbol=symbol,\n",
    "    qty=1,\n",
    "    side=OrderSide.BUY,\n",
    "    time_in_force=TimeInForce.DAY\n",
    ")\n",
    "\n",
    "market_order = trading_client.submit_order(order_data=market_order_data)\n",
    "print(\"Buy order:\", market_order)\n",
    "\n",
    "# Example: Sell 1 share of AAPL\n",
    "sell_order_data = MarketOrderRequest(\n",
    "    symbol=\"AAPL\",\n",
    "    qty=1,\n",
    "    side=OrderSide.SELL,\n",
    "    time_in_force=TimeInForce.DAY\n",
    ")\n",
    "\n",
    "sell_order = trading_client.submit_order(order_data=sell_order_data)\n",
    "print(\"Sell order:\", sell_order)\n"
   ]
  }
 ],
 "metadata": {
  "kernelspec": {
   "display_name": "Python 3 (ipykernel)",
   "language": "python",
   "name": "python3"
  },
  "language_info": {
   "codemirror_mode": {
    "name": "ipython",
    "version": 3
   },
   "file_extension": ".py",
   "mimetype": "text/x-python",
   "name": "python",
   "nbconvert_exporter": "python",
   "pygments_lexer": "ipython3",
   "version": "3.9.18"
  }
 },
 "nbformat": 4,
 "nbformat_minor": 5
}
